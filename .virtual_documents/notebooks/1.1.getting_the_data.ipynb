#!pip install ucimlrepo


import numpy as np
import pandas as pd
from ucimlrepo import fetch_ucirepo 


# fetch dataset 
forest_fires = fetch_ucirepo(id=162) 
  
# data (as pandas dataframes) 
X = forest_fires.data.features 
y = forest_fires.data.targets 
  
# metadata 
print(forest_fires.metadata) 
  
# variable information 
print(forest_fires.variables) 



# Concatenate both datasets (feature y target)
forest_fires_df = pd.concat([X, y], axis = 1)
forest_fires_df.head()


# Generate file path
file_path = f'../data/raw/{"forest_fires_df.csv"}'


# Saving full dataset
forest_fires_df.to_csv(file_path, index=False)



