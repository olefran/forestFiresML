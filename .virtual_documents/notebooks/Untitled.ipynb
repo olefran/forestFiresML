import pandas as pd
import numpy as np
from sklearn.preprocessing import LabelEncoder, StandardScaler
from sklearn.model_selection import train_test_split
from sklearn.linear_model import LinearRegression
from sklearn.tree import DecisionTreeRegressor
from sklearn.ensemble import RandomForestRegressor, GradientBoostingRegressor
from sklearn.svm import SVR
from sklearn.metrics import mean_squared_error, r2_score
import matplotlib.pyplot as plt
import joblib


# Ruta del dataset
file_path = f'../data/processed'

# Cargar el dataset
X_train = pd.read_csv(f'{file_path}/X_train_processed.csv')
X_test = pd.read_csv(f'{file_path}/X_test_processed.csv')
y_train = pd.read_csv(f'{file_path}/y_train_processed.csv')
y_test = pd.read_csv(f'{file_path}/y_test_processed.csv')



