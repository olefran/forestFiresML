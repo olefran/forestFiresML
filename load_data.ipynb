{
 "cells": [
  {
   "cell_type": "code",
   "execution_count": null,
   "metadata": {},
   "outputs": [],
   "source": [
    "import numpy as np\n",
    "import pandas as pd\n",
    "from ucimlrepo import fetch_ucirepo \n",
    "\n",
    "def load_data(project_num):\n",
    "    dataset_ = fetch_ucirepo(id=project_num) # 162 for forest fires\n",
    "    X = dataset_.data.features \n",
    "    y = dataset_.data.targets\n",
    "    df = pd.concat([X, y], axis = 1)\n",
    "    file_path = f'../data/raw/{\"df.csv\"}'\n",
    "    df.to_csv(file_path, index=False)\n",
    "    return pd.read_csv(file_path)"
   ]
  }
 ],
 "metadata": {
  "kernelspec": {
   "display_name": "Python 3.10.11 64-bit (microsoft store)",
   "language": "python",
   "name": "python3"
  },
  "language_info": {
   "name": "python",
   "version": "3.10.11"
  },
  "orig_nbformat": 4,
  "vscode": {
   "interpreter": {
    "hash": "f198b6d72d4c045ba146bb9016fd0f926a090762a310083c3532c3e3deb5f0ae"
   }
  }
 },
 "nbformat": 4,
 "nbformat_minor": 2
}
