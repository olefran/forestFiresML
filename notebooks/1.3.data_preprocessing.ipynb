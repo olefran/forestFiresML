{
 "cells": [
  {
   "cell_type": "code",
   "execution_count": 1,
   "id": "5d14b259-0510-4a12-8bf6-89acdc37e067",
   "metadata": {},
   "outputs": [],
   "source": [
    "import pandas as pd\n",
    "import numpy as np\n",
    "from sklearn.preprocessing import LabelEncoder, StandardScaler\n",
    "from sklearn.model_selection import train_test_split\n",
    "from sklearn.linear_model import LinearRegression\n",
    "from sklearn.tree import DecisionTreeRegressor\n",
    "from sklearn.ensemble import RandomForestRegressor, GradientBoostingRegressor\n",
    "from sklearn.svm import SVR\n",
    "from sklearn.metrics import mean_squared_error, r2_score\n",
    "import matplotlib.pyplot as plt\n",
    "import joblib"
   ]
  },
  {
   "cell_type": "code",
   "execution_count": 2,
   "id": "fe341fd0-777d-42f6-b579-6c036cee6238",
   "metadata": {},
   "outputs": [],
   "source": [
    "# Ruta del dataset\n",
    "file_path = f'../data/processed/forest_fires_prepared_df.csv'\n",
    "\n",
    "# Cargar el dataset\n",
    "data = pd.read_csv(file_path)"
   ]
  },
  {
   "cell_type": "code",
   "execution_count": 3,
   "id": "909b0db0-8201-4f4c-8226-52b89a40a50d",
   "metadata": {},
   "outputs": [],
   "source": [
    "# Copiar los datos para evitar modificar el original\n",
    "processed_data = data.copy()"
   ]
  },
  {
   "cell_type": "code",
   "execution_count": 4,
   "id": "7d7a6bc2-79ab-4f88-980b-7795a73d525a",
   "metadata": {},
   "outputs": [],
   "source": [
    "# Codificar 'month' y 'day'\n",
    "label_encoder_month = LabelEncoder()\n",
    "label_encoder_day = LabelEncoder()\n",
    "processed_data['month'] = label_encoder_month.fit_transform(processed_data['month'])\n",
    "processed_data['day'] = label_encoder_day.fit_transform(processed_data['day'])"
   ]
  },
  {
   "cell_type": "code",
   "execution_count": 5,
   "id": "4ef80b35-95f8-4953-9447-5b0eb4498ff8",
   "metadata": {},
   "outputs": [],
   "source": [
    "# Aplicar transformación logarítmica a 'area'\n",
    "processed_data['area'] = np.log(processed_data['area'] + 1)"
   ]
  },
  {
   "cell_type": "code",
   "execution_count": 6,
   "id": "f5eafd82-4a48-43c0-af4f-c60fd345d0a2",
   "metadata": {},
   "outputs": [],
   "source": [
    "# Estandarizar características numéricas\n",
    "scaler = StandardScaler()\n",
    "numerical_features = ['FFMC', 'DMC', 'DC', 'ISI', 'temp', 'RH', 'wind', 'rain']\n",
    "processed_data[numerical_features] = scaler.fit_transform(processed_data[numerical_features])"
   ]
  },
  {
   "cell_type": "code",
   "execution_count": 7,
   "id": "c3a3e97a-37c2-4c77-a618-8ff342ccda94",
   "metadata": {},
   "outputs": [],
   "source": [
    "# Dividir los datos en características y variable objetivo\n",
    "X = processed_data.drop(columns=['area'])\n",
    "y = processed_data['area']"
   ]
  },
  {
   "cell_type": "code",
   "execution_count": 8,
   "id": "a0c2bb04-5322-4d18-8d68-7942ae2737b2",
   "metadata": {},
   "outputs": [],
   "source": [
    "# Dividir los datos en conjuntos de entrenamiento y prueba\n",
    "X_train, X_test, y_train, y_test = train_test_split(X, y, test_size=0.2, random_state=42)"
   ]
  },
  {
   "cell_type": "code",
   "execution_count": 9,
   "id": "2d34fc6c-c387-47fc-ad13-ce4cc421c086",
   "metadata": {},
   "outputs": [],
   "source": [
    "# Guardar los datos procesados en archivos CSV\n",
    "file_path = f'../data/processed'\n",
    "\n",
    "X_train.to_csv(f'{file_path}/X_train_processed.csv', index=False)\n",
    "X_test.to_csv(f'{file_path}/X_test_processed.csv', index=False)\n",
    "y_train.to_csv(f'{file_path}/y_train_processed.csv', index=False)\n",
    "y_test.to_csv(f'{file_path}/y_test_processed.csv', index=False)"
   ]
  },
  {
   "cell_type": "code",
   "execution_count": 10,
   "id": "8f2263c0-5a62-4d95-83c5-f6e66e6d856e",
   "metadata": {},
   "outputs": [],
   "source": [
    "# Guardar el dataset final procesado\n",
    "processed_data.to_csv(f'{file_path}/forest_fires_processed_df.csv', index=False)"
   ]
  },
  {
   "cell_type": "code",
   "execution_count": null,
   "id": "f5b46415-8734-4c72-ac31-39cfd35d88fc",
   "metadata": {},
   "outputs": [],
   "source": []
  }
 ],
 "metadata": {
  "kernelspec": {
   "display_name": "Python 3 (ipykernel)",
   "language": "python",
   "name": "python3"
  },
  "language_info": {
   "codemirror_mode": {
    "name": "ipython",
    "version": 3
   },
   "file_extension": ".py",
   "mimetype": "text/x-python",
   "name": "python",
   "nbconvert_exporter": "python",
   "pygments_lexer": "ipython3",
   "version": "3.11.7"
  }
 },
 "nbformat": 4,
 "nbformat_minor": 5
}
