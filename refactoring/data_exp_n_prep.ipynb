{
 "cells": [
  {
   "cell_type": "code",
   "execution_count": null,
   "metadata": {},
   "outputs": [],
   "source": [
    "import pandas as pd\n",
    "import numpy as np\n",
    "import warnings\n",
    "\n",
    "def data_exp_n_prep(data_path):\n",
    "\n",
    "    data = pd.read_csv(data_path)\n",
    "\n",
    "    warnings.filterwarnings('ignore')\n",
    "\n",
    "    print(\"Primeras filas del dataset:\")\n",
    "    print(data.head())\n",
    "\n",
    "    # Información del dataset para verificar los tipos de datos y valores nulos\n",
    "    print(\"\\nInformación del dataset:\")\n",
    "    data.info()\n",
    "\n",
    "    # Revisar si hay valores nulos\n",
    "    print(\"\\nValores nulos por columna:\")\n",
    "    print(data.isnull().sum())\n",
    "\n",
    "    # Corregir potenciales valores nulos si los hay\n",
    "    data = data.dropna()\n",
    "\n",
    "    # Revisar y Eliminar duplicados\n",
    "    print(f\"\\nNúmero de filas duplicadas: {data.duplicated().sum()}\")\n",
    "    data = data.drop_duplicates()\n",
    "    print(f\"Número de filas después de eliminar duplicados: {data.shape[0]}\")\n",
    "\n",
    "    # Detectar y manejar outliers en la variable 'area' usando el método del rango intercuartílico (IQR)\n",
    "    Q1 = data['area'].quantile(0.25)\n",
    "    Q3 = data['area'].quantile(0.75)\n",
    "    IQR = Q3 - Q1\n",
    "    lower_bound = Q1 - 1.5 * IQR\n",
    "    upper_bound = Q3 + 1.5 * IQR\n",
    "\n",
    "    # Filtrar las filas con valores fuera de los límites\n",
    "    data_filtered = data[(data['area'] >= lower_bound) & (data['area'] <= upper_bound)]\n",
    "    print(f\"Cantidad de datos después de eliminar outliers: {data_filtered.shape[0]}\")\n",
    "\n",
    "    data_filtered.to_csv(f'../data/raw/{\"forestfires_data_filtered.csv\"}', index=False)"
   ]
  }
 ],
 "metadata": {
  "kernelspec": {
   "display_name": "Python 3.10.11 64-bit (microsoft store)",
   "language": "python",
   "name": "python3"
  },
  "language_info": {
   "name": "python",
   "version": "3.10.11"
  },
  "orig_nbformat": 4,
  "vscode": {
   "interpreter": {
    "hash": "f198b6d72d4c045ba146bb9016fd0f926a090762a310083c3532c3e3deb5f0ae"
   }
  }
 },
 "nbformat": 4,
 "nbformat_minor": 2
}
