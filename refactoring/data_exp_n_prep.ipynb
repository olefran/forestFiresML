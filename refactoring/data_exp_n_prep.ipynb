{
 "cells": [
  {
   "cell_type": "code",
   "execution_count": 1,
   "metadata": {},
   "outputs": [],
   "source": [
    "import pandas as pd\n",
    "import numpy as np\n",
    "import warnings\n",
    "\n",
    "def data_exp_n_prep(data_path):\n",
    "\n",
    "    data = pd.read_csv(data_path)\n",
    "\n",
    "    warnings.filterwarnings('ignore')\n",
    "\n",
    "    print(\"Primeras filas del dataset:\")\n",
    "    print(data.head())\n",
    "\n",
    "    # Información del dataset para verificar los tipos de datos y valores nulos\n",
    "    print(\"\\nInformación del dataset:\")\n",
    "    data.info()\n",
    "\n",
    "    # Revisar si hay valores nulos\n",
    "    print(\"\\nValores nulos por columna:\")\n",
    "    print(data.isnull().sum())\n",
    "\n",
    "    # Corregir potenciales valores nulos si los hay\n",
    "    data = data.dropna()\n",
    "\n",
    "    # Revisar y Eliminar duplicados\n",
    "    print(f\"\\nNúmero de filas duplicadas: {data.duplicated().sum()}\")\n",
    "    data = data.drop_duplicates()\n",
    "    print(f\"Número de filas después de eliminar duplicados: {data.shape[0]}\")\n",
    "\n",
    "    # Detectar y manejar outliers en la variable 'area' usando el método del rango intercuartílico (IQR)\n",
    "    Q1 = data['area'].quantile(0.25)\n",
    "    Q3 = data['area'].quantile(0.75)\n",
    "    IQR = Q3 - Q1\n",
    "    lower_bound = Q1 - 1.5 * IQR\n",
    "    upper_bound = Q3 + 1.5 * IQR\n",
    "\n",
    "    # Filtrar las filas con valores fuera de los límites\n",
    "    data_filtered = data[(data['area'] >= lower_bound) & (data['area'] <= upper_bound)]\n",
    "    print(f\"Cantidad de datos después de eliminar outliers: {data_filtered.shape[0]}\")\n",
    "\n",
    "    # Transformar la variable 'area' (debido al sesgo hacia valores pequeños) usando una escala logarítmica log(1 + area) para mejorar la distribución\n",
    "    data_filtered['log_area'] = np.log1p(data_filtered['area'])\n",
    "\n",
    "    data_filtered.to_csv(f'../data/processed/forest_fires_prepared_df.csv', index=False)"
   ]
  },
  {
   "cell_type": "code",
   "execution_count": 2,
   "metadata": {},
   "outputs": [
    {
     "name": "stdout",
     "output_type": "stream",
     "text": [
      "Primeras filas del dataset:\n",
      "   X  Y month  day  FFMC   DMC     DC  ISI  temp  RH  wind  rain  area\n",
      "0  7  5   mar  fri  86.2  26.2   94.3  5.1   8.2  51   6.7   0.0   0.0\n",
      "1  7  4   oct  tue  90.6  35.4  669.1  6.7  18.0  33   0.9   0.0   0.0\n",
      "2  7  4   oct  sat  90.6  43.7  686.9  6.7  14.6  33   1.3   0.0   0.0\n",
      "3  8  6   mar  fri  91.7  33.3   77.5  9.0   8.3  97   4.0   0.2   0.0\n",
      "4  8  6   mar  sun  89.3  51.3  102.2  9.6  11.4  99   1.8   0.0   0.0\n",
      "\n",
      "Información del dataset:\n",
      "<class 'pandas.core.frame.DataFrame'>\n",
      "RangeIndex: 517 entries, 0 to 516\n",
      "Data columns (total 13 columns):\n",
      " #   Column  Non-Null Count  Dtype  \n",
      "---  ------  --------------  -----  \n",
      " 0   X       517 non-null    int64  \n",
      " 1   Y       517 non-null    int64  \n",
      " 2   month   517 non-null    object \n",
      " 3   day     517 non-null    object \n",
      " 4   FFMC    517 non-null    float64\n",
      " 5   DMC     517 non-null    float64\n",
      " 6   DC      517 non-null    float64\n",
      " 7   ISI     517 non-null    float64\n",
      " 8   temp    517 non-null    float64\n",
      " 9   RH      517 non-null    int64  \n",
      " 10  wind    517 non-null    float64\n",
      " 11  rain    517 non-null    float64\n",
      " 12  area    517 non-null    float64\n",
      "dtypes: float64(8), int64(3), object(2)\n",
      "memory usage: 52.6+ KB\n",
      "\n",
      "Valores nulos por columna:\n",
      "X        0\n",
      "Y        0\n",
      "month    0\n",
      "day      0\n",
      "FFMC     0\n",
      "DMC      0\n",
      "DC       0\n",
      "ISI      0\n",
      "temp     0\n",
      "RH       0\n",
      "wind     0\n",
      "rain     0\n",
      "area     0\n",
      "dtype: int64\n",
      "\n",
      "Número de filas duplicadas: 4\n",
      "Número de filas después de eliminar duplicados: 513\n",
      "Cantidad de datos después de eliminar outliers: 451\n"
     ]
    }
   ],
   "source": [
    "data_exp_n_prep(f'../data/processed/forestfires.csv')"
   ]
  }
 ],
 "metadata": {
  "kernelspec": {
   "display_name": "Python 3.10.11 64-bit (microsoft store)",
   "language": "python",
   "name": "python3"
  },
  "language_info": {
   "codemirror_mode": {
    "name": "ipython",
    "version": 3
   },
   "file_extension": ".py",
   "mimetype": "text/x-python",
   "name": "python",
   "nbconvert_exporter": "python",
   "pygments_lexer": "ipython3",
   "version": "3.10.11"
  },
  "orig_nbformat": 4,
  "vscode": {
   "interpreter": {
    "hash": "f198b6d72d4c045ba146bb9016fd0f926a090762a310083c3532c3e3deb5f0ae"
   }
  }
 },
 "nbformat": 4,
 "nbformat_minor": 2
}
