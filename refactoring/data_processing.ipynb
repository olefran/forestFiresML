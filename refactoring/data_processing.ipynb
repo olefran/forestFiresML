{
 "cells": [
  {
   "cell_type": "code",
   "execution_count": null,
   "metadata": {},
   "outputs": [],
   "source": [
    "import pandas as pd\n",
    "import numpy as np\n",
    "from sklearn.preprocessing import LabelEncoder, StandardScaler\n",
    "from sklearn.model_selection import train_test_split\n",
    "from sklearn.linear_model import LinearRegression\n",
    "from sklearn.tree import DecisionTreeRegressor\n",
    "from sklearn.ensemble import RandomForestRegressor, GradientBoostingRegressor\n",
    "from sklearn.svm import SVR\n",
    "from sklearn.metrics import mean_squared_error, r2_score\n",
    "import matplotlib.pyplot as plt\n",
    "import joblib\n",
    "\n",
    "def data_processing(file_path):\n",
    "\n",
    "    # Cargar el dataset\n",
    "    data = pd.read_csv(file_path)\n",
    "\n",
    "    processed_data = data.copy()\n",
    "\n",
    "    # Codificar 'month' y 'day'\n",
    "    label_encoder_month = LabelEncoder()\n",
    "    label_encoder_day = LabelEncoder()\n",
    "    processed_data['month'] = label_encoder_month.fit_transform(processed_data['month'])\n",
    "    processed_data['day'] = label_encoder_day.fit_transform(processed_data['day'])\n",
    "\n",
    "    # Aplicar transformación logarítmica a 'area'\n",
    "    processed_data['area'] = np.log(processed_data['area'] + 1)\n",
    "\n",
    "    # Estandarizar características numéricas\n",
    "    scaler = StandardScaler()\n",
    "    numerical_features = ['FFMC', 'DMC', 'DC', 'ISI', 'temp', 'RH', 'wind', 'rain']\n",
    "    processed_data[numerical_features] = scaler.fit_transform(processed_data[numerical_features])\n",
    "\n",
    "    # Dividir los datos en características y variable objetivo\n",
    "    X = processed_data.drop(columns=['area'])\n",
    "    y = processed_data['area']\n",
    "\n",
    "    # Dividir los datos en conjuntos de entrenamiento y prueba\n",
    "    X_train, X_test, y_train, y_test = train_test_split(X, y, test_size=0.2, random_state=42)\n",
    "\n",
    "    # Guardar los datos procesados en archivos CSV\n",
    "    file_path = f'../data/processed'\n",
    "\n",
    "    X_train.to_csv(f'{file_path}/X_train_processed.csv', index=False)\n",
    "    X_test.to_csv(f'{file_path}/X_test_processed.csv', index=False)\n",
    "    y_train.to_csv(f'{file_path}/y_train_processed.csv', index=False)\n",
    "    y_test.to_csv(f'{file_path}/y_test_processed.csv', index=False)\n",
    "\n",
    "    # Guardar el dataset final procesado\n",
    "    processed_data.to_csv(f'{file_path}/forest_fires_processed_df.csv', index=False)"
   ]
  }
 ],
 "metadata": {
  "kernelspec": {
   "display_name": "Python 3.10.11 64-bit (microsoft store)",
   "language": "python",
   "name": "python3"
  },
  "language_info": {
   "name": "python",
   "version": "3.10.11"
  },
  "orig_nbformat": 4,
  "vscode": {
   "interpreter": {
    "hash": "f198b6d72d4c045ba146bb9016fd0f926a090762a310083c3532c3e3deb5f0ae"
   }
  }
 },
 "nbformat": 4,
 "nbformat_minor": 2
}
